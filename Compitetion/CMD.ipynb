{
  "cells": [
    {
      "metadata": {
        "_uuid": "8f2839f25d086af736a60e9eeb907d3b93b6e0e5",
        "_cell_guid": "b1076dfc-b9ad-4769-8c92-a6c4dae69d19",
        "trusted": true
      },
      "cell_type": "code",
      "source": "# This Python 3 environment comes with many helpful analytics libraries installed\n# It is defined by the kaggle/python docker image: https://github.com/kaggle/docker-python\n# For example, here's several helpful packages to load in \n\nimport numpy as np # linear algebra\nimport pandas as pd # data processing, CSV file I/O (e.g. pd.read_csv)\n\n# Input data files are available in the \"../input/\" directory.\n# For example, running this (by clicking run or pressing Shift+Enter) will list the files in the input directory\n\nimport os\nprint(os.listdir(\"../input\"))\n\n# Any results you write to the current directory are saved as output.",
      "execution_count": null,
      "outputs": []
    },
    {
      "metadata": {
        "_cell_guid": "79c7e3d0-c299-4dcb-8224-4455121ee9b0",
        "_uuid": "d629ff2d2480ee46fbb7e2d37f6b5fab8052498a",
        "trusted": true
      },
      "cell_type": "code",
      "source": "#The Trained File is load\nLoad = pd.read_csv('../input/train.csv')\n\nprint(Load.describe())\nprint(Load.head(), sep = '\\n')",
      "execution_count": null,
      "outputs": []
    },
    {
      "metadata": {
        "trusted": true,
        "_uuid": "0bb16151fe202e36449849eeec7e4bbb506a210b"
      },
      "cell_type": "code",
      "source": "#The Prediction from the reports\nRefer = pd.read_csv('../input/test.csv').dropna()\n\nprint(Refer.describe())\nprint(Refer.head(), sep = '\\n')\n\n#This carifying the features on the survived once\nGender_sub = pd.read_csv('../input/gender_submission.csv')\n\nprint(Gender_sub.describe())\nprint(Gender_sub.head(), sep = '\\n')",
      "execution_count": null,
      "outputs": []
    },
    {
      "metadata": {
        "trusted": true,
        "_uuid": "c9b57295cf0b0d324ec1acfc96f860ab07aba575"
      },
      "cell_type": "code",
      "source": "#Here I am combining the train and test file to predict\nFull_Data = [Load, Refer, Gender_sub]\nprint([Load, Refer, Gender_sub])",
      "execution_count": null,
      "outputs": []
    },
    {
      "metadata": {
        "trusted": true,
        "_uuid": "80da48c6513e095e5cf05a93ef43d483ccb829b9"
      },
      "cell_type": "code",
      "source": "#First Phase\n#Now onward the data will never check the Sex, PassengerId & Passenger_Name.\n#It will pass the data which are exactly same at the test side.\nfor Each_Passenger in Full_Data :\n    \n    #Converterd to the integer dtype\n    #Here the Gender taken and it reverify by the data\n    #This steps is for inter check with train and test file\n    Each_Passenger['passenger'] = Each_Passenger.Sex.str.extract('([A-Za-z]+)\\. ', expand = False).apply(lambda x : x == Refer['PassengerId'] if type(x) == str else 1)\n    Each_Passenger['passenger'] = pd.factorize(Each_Passenger['passenger'])[0]\n\n    #And here it combine and coverted to one by overwrite\n    #The person are unique and Sex can be same but not all of them are same\n    Each_Passenger['passenger'] = Each_Passenger.Name.str.extract('([A-Za-z]+)\\. ', expand = False)\n    Each_Passenger['passenger'] = pd.factorize(Each_Passenger['passenger'])[0]\n    \n    train = Load.drop(['PassengerId', 'Ticket', 'Cabin'], axis = 1)\n    test = Refer.drop(['PassengerId', 'Ticket', 'Cabin'], axis = 1)\n    collect = [train, test]\n    \n    print(Each_Passenger['passenger'])",
      "execution_count": null,
      "outputs": []
    },
    {
      "metadata": {
        "trusted": true,
        "_uuid": "96cb5801e2d16d20ff8525db96508b7270371349"
      },
      "cell_type": "code",
      "source": "#Second Phase\n#Cleaning data and Gather match data \n#Mean Data Preprocessing\n#This will gather a big catelog for the features\n#The connection in the Fare with Age because Fare Age defur but\n#In the category age and fare will have some similarity\nfor Each_Passenger in Full_Data :\n    \n    Each_Passenger.loc[(Each_Passenger['Age'] <= 0) & (Each_Passenger['Fare'] <= 0) , 'Age']  =  0\n    Each_Passenger.loc[(Each_Passenger['Age'] > 0) & (Each_Passenger['Age'] <= 6 ) | (Each_Passenger['Fare'] > 0) & (Each_Passenger['Fare'] <= 52) , 'Age'] = 1\n    Each_Passenger.loc[(Each_Passenger['Age'] > 6) & (Each_Passenger['Age'] <= 13 ) | (Each_Passenger['Fare'] > 52) & (Each_Passenger['Fare'] <= 126) , 'Age'] = 2\n    Each_Passenger.loc[(Each_Passenger['Age'] > 13) & (Each_Passenger['Age'] <= 22 ) | (Each_Passenger['Fare'] > 126) & (Each_Passenger['Fare'] <= 187) , 'Age'] = 3\n    Each_Passenger.loc[(Each_Passenger['Age'] > 22) & (Each_Passenger['Age'] <= 50 ) | (Each_Passenger['Fare'] > 187) & (Each_Passenger['Fare'] <= 279) , 'Age'] = 4\n    Each_Passenger.loc[(Each_Passenger['Age'] > 80) & (Each_Passenger['Age'] <= 80 ) | (Each_Passenger['Fare'] > 279) & (Each_Passenger['Fare'] <= 513) , 'Age'] = 5\n    Each_Passenger.loc[(Each_Passenger['Age'] > 80) & (Each_Passenger['Fare'] > 513), 'Age']; \n    \n    print(Each_Passenger.describe())\n    print(Each_Passenger['Age'].tail(20))",
      "execution_count": null,
      "outputs": []
    },
    {
      "metadata": {
        "trusted": true,
        "_uuid": "3b6dc3974598e324680bad9de231568915049570"
      },
      "cell_type": "code",
      "source": "#Third Phase\n#The children with sibling are gather on there values with parents on the base of catalog\n#The two features are created from three data list\nfor Each_Passenger in Full_Data :\n    \n    Each_Passenger.loc[(Each_Passenger['Parch'] <= 0) | (Each_Passenger['Parch'] <= 0) , 'Parch']  =  0\n    Each_Passenger.loc[(Each_Passenger['Parch'] > 0) & (Each_Passenger['Parch'] <= 1 ) | (Each_Passenger['SibSp'] > 0) & (Each_Passenger['SibSp'] <= 1) , 'Parch'] = 1\n    Each_Passenger.loc[(Each_Passenger['Parch'] > 1) & (Each_Passenger['Parch'] <= 2 ) | (Each_Passenger['SibSp'] > 1) & (Each_Passenger['SibSp'] <= 2) , 'Parch'] = 2\n    Each_Passenger.loc[(Each_Passenger['Parch'] > 2) & (Each_Passenger['Parch'] <= 3 ) | (Each_Passenger['SibSp'] > 2) & (Each_Passenger['SibSp'] <= 3) , 'Parch'] = 3\n    Each_Passenger.loc[(Each_Passenger['Parch'] > 3) & (Each_Passenger['Parch'] <= 4 ) | (Each_Passenger['SibSp'] > 3) & (Each_Passenger['SibSp'] <= 4) , 'Parch'] = 4\n    Each_Passenger.loc[(Each_Passenger['Parch'] > 4) & (Each_Passenger['Parch'] > 4), 'Parch'];\n    \n    Each_Passenger.loc[(Each_Passenger['Pclass'] <= 0) & (Each_Passenger['Parch'] <= 0) , 'Pclass']  =  0\n    Each_Passenger.loc[(Each_Passenger['Pclass'] > 0) & (Each_Passenger['Pclass'] <= 1 ) | (Each_Passenger['Parch'] > 0) & (Each_Passenger['Parch'] <= 1) , 'Pclass'] = 1\n    Each_Passenger.loc[(Each_Passenger['Pclass'] > 1) & (Each_Passenger['Pclass'] <= 2 ) | (Each_Passenger['Parch'] > 1) & (Each_Passenger['Parch'] <= 2) , 'Pclass'] = 2\n    Each_Passenger.loc[(Each_Passenger['Pclass'] > 2) & (Each_Passenger['Pclass'] <= 3 ) | (Each_Passenger['Parch'] > 2) & (Each_Passenger['Parch'] <= 3) , 'Pclass'] = 3\n    Each_Passenger.loc[(Each_Passenger['Pclass'] > 4) & (Each_Passenger['Parch'] > 4), 'Pclass'];\n    \n    print(Each_Passenger[['Parch', 'Pclass']])",
      "execution_count": null,
      "outputs": []
    },
    {
      "metadata": {
        "trusted": true,
        "_uuid": "eca42d7e672b3b0a35ee84cac21dd80241d24975"
      },
      "cell_type": "code",
      "source": "def Uni(Each_Passenger) :\n    \n    return Each_Passenger",
      "execution_count": 226,
      "outputs": []
    },
    {
      "metadata": {
        "trusted": true,
        "_uuid": "9e7492803f1613fac6de015b73059b9948dc70b9"
      },
      "cell_type": "code",
      "source": "tr = Uni(train) \ntr[['Age', 'Parch', 'Pclass']] = tr[['Age', 'Parch', 'Pclass']]\nX = tr[['passenger', 'Survived']].fillna(0)\ny = tr[['Age', 'Parch', 'Pclass']].fillna(0)\n",
      "execution_count": 233,
      "outputs": []
    },
    {
      "metadata": {
        "trusted": true,
        "_uuid": "39e2dc7867f0a582499f20987c4718c28fa27688"
      },
      "cell_type": "code",
      "source": "#Select  model\nfrom sklearn.tree import DecisionTreeRegressor as dtr\nfrom sklearn.model_selection import train_test_split as tts\nfrom sklearn.metrics import mean_absolute_error as aus\nfrom sklearn.model_selection import cross_val_score as cs\nfrom sklearn.metrics import explained_variance_score as ax\n\n#To avoid unrelvent errors\nimport warnings\nwarnings.filterwarnings('ignore')\n",
      "execution_count": 228,
      "outputs": []
    },
    {
      "metadata": {
        "trusted": true,
        "_uuid": "bc08a81cfa8315438b616b119a3859f76a006abb"
      },
      "cell_type": "code",
      "source": "#Split the your data as trainning and test sets\ntrain_X, test_X, train_y, test_y = tts(y, X, train_size = 0.33, test_size = 0.33, random_state = 42)\n\nprint(len(train_X))\nprint(len(train_y))\nprint(len(test_X))\nprint(len(test_y))",
      "execution_count": 229,
      "outputs": [
        {
          "output_type": "stream",
          "text": "294\n294\n295\n295\n",
          "name": "stdout"
        }
      ]
    },
    {
      "metadata": {
        "trusted": true,
        "_uuid": "61509eae97de261fc3aaa080d45a1ef3a5b57842"
      },
      "cell_type": "code",
      "source": "#Classifying the splited data and check accuracy\nmodel = dtr()\nmodel.fit(train_X, train_y)\n\na = model.score(test_X, test_y)\nprint('Score with model', a)\nz = cs(model, test_X, test_y)\n\nprint('This is error in list', z)",
      "execution_count": 230,
      "outputs": [
        {
          "output_type": "stream",
          "text": "Score with model -1.4233214825916243\nThis is error in list [-0.8368591  -0.86970717 -0.41610995]\n",
          "name": "stdout"
        }
      ]
    },
    {
      "metadata": {
        "trusted": true,
        "_uuid": "985a6ee0de34d44c844d62215c0826ebfd445d9a"
      },
      "cell_type": "code",
      "source": "#Predict your data\nprediction = model.predict(test_X)\n\nans = aus(test_y, prediction)\n\nFinal_score = round(model.score(train_X, train_y) * 100, 2)\n\nprint('Error', ans)\nprint('In Percentange : ',Final_score)",
      "execution_count": 240,
      "outputs": [
        {
          "output_type": "stream",
          "text": "Error 0.8040180252892118\nIn Percentange :  76.29\n",
          "name": "stdout"
        }
      ]
    }
  ],
  "metadata": {
    "kernelspec": {
      "display_name": "Python 3",
      "language": "python",
      "name": "python3"
    },
    "language_info": {
      "name": "python",
      "version": "3.6.6",
      "mimetype": "text/x-python",
      "codemirror_mode": {
        "name": "ipython",
        "version": 3
      },
      "pygments_lexer": "ipython3",
      "nbconvert_exporter": "python",
      "file_extension": ".py"
    }
  },
  "nbformat": 4,
  "nbformat_minor": 1
}